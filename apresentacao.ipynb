{
 "cells": [
  {
   "cell_type": "code",
   "execution_count": null,
   "metadata": {},
   "outputs": [],
   "source": [
    "import pandas as pd\n",
    "import datetime as dt\n",
    "import matplotlib.pyplot as plt\n",
    "df = pd.read_csv('train.csv')"
   ]
  },
  {
   "cell_type": "code",
   "execution_count": null,
   "metadata": {},
   "outputs": [],
   "source": [
    "# vizualição inicial para checar possiveis erros e planejar tratativas\n",
    "df.info()"
   ]
  },
  {
   "cell_type": "code",
   "execution_count": null,
   "metadata": {},
   "outputs": [],
   "source": [
    "# tratamento de valores nulos\n",
    "df[df['Postal Code'].isnull()]"
   ]
  },
  {
   "cell_type": "code",
   "execution_count": null,
   "metadata": {},
   "outputs": [],
   "source": [
    "df.loc[(df['City'] == 'Burlington') & (df['State'] == 'Vermont') & (df['Postal Code'].isnull()),'Postal Code' ] = 5401"
   ]
  },
  {
   "cell_type": "code",
   "execution_count": null,
   "metadata": {},
   "outputs": [],
   "source": [
    "df[(df['City'] =='Burlington') & (df['State'] == 'Vermont')]"
   ]
  },
  {
   "cell_type": "code",
   "execution_count": null,
   "metadata": {},
   "outputs": [],
   "source": [
    "# verificando se ainda existe valores nulos\n",
    "df.info()"
   ]
  },
  {
   "cell_type": "code",
   "execution_count": null,
   "metadata": {},
   "outputs": [],
   "source": [
    "#Pergunta de négocio 1, Vendas por ano pelas colunas Ano e Vendas"
   ]
  },
  {
   "cell_type": "code",
   "execution_count": null,
   "metadata": {},
   "outputs": [],
   "source": [
    "#transformando Dtypes object em date para podermos trabalhar com data\n",
    "\n",
    "df['Order Date'] = pd.to_datetime(df['Order Date'],format= \"%d/%m/%Y\")\n",
    "df['Ship Date'] = pd.to_datetime(df['Ship Date'],format= \"%d/%m/%Y\")"
   ]
  },
  {
   "cell_type": "code",
   "execution_count": null,
   "metadata": {},
   "outputs": [],
   "source": [
    "#como não temos a coluna Ano, vamos criar uma com o dt.year a partir da recém ajustada coluna order date\n",
    "df['Ano'] = df['Order Date'].dt.year"
   ]
  },
  {
   "cell_type": "code",
   "execution_count": null,
   "metadata": {},
   "outputs": [],
   "source": [
    "#agora vamos agrupar a coluna ano com vendas para que tenhamos a resposta da primeira pergunta\n",
    "vendas_ano = df.groupby('Ano')['Sales'].sum()"
   ]
  },
  {
   "cell_type": "code",
   "execution_count": null,
   "metadata": {},
   "outputs": [],
   "source": [
    "#tornando essa informação visual\n",
    "fig,ax = plt.subplots()\n",
    "\n",
    "vendas_ano = df.groupby('Ano')['Sales'].sum()\n",
    "\n",
    "ax.bar(vendas_ano.index, vendas_ano.values)\n",
    "ax.set_title('Vendas por ano',fontsize = 20)\n",
    "ax.xaxis.set_ticks([2015,2016,2017,2018])\n",
    "plt.show()\n",
    "\n",
    "plt.show()"
   ]
  }
 ],
 "metadata": {
  "kernelspec": {
   "display_name": "Python 3",
   "language": "python",
   "name": "python3"
  },
  "language_info": {
   "codemirror_mode": {
    "name": "ipython",
    "version": 3
   },
   "file_extension": ".py",
   "mimetype": "text/x-python",
   "name": "python",
   "nbconvert_exporter": "python",
   "pygments_lexer": "ipython3",
   "version": "3.12.2"
  }
 },
 "nbformat": 4,
 "nbformat_minor": 2
}
