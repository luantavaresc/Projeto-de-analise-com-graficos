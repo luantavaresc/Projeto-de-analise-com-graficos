{
    "cells": [
        {
            "cell_type": "code",
            "execution_count": null,
            "metadata": {},
            "outputs": [],
            "source": [
                "import pandas as pd\n",
                "import datetime as dt\n",
                "import matplotlib.pyplot as plt\n",
                "import numpy as np\n",
                "df = pd.read_csv('train.csv')"
            ]
        },
        {
            "cell_type": "code",
            "execution_count": null,
            "metadata": {},
            "outputs": [],
            "source": [
                "# vizualição inicial para checar possiveis erros e planejar tratativas\n",
                "df.info()"
            ]
        },
        {
            "cell_type": "code",
            "execution_count": null,
            "metadata": {},
            "outputs": [],
            "source": [
                "# tratamento de valores nulos\n",
                "df[df['Postal Code'].isnull()]"
            ]
        },
        {
            "cell_type": "code",
            "execution_count": null,
            "metadata": {},
            "outputs": [],
            "source": [
                "df.loc[(df['City'] == 'Burlington') & (df['State'] == 'Vermont') & (df['Postal Code'].isnull()),'Postal Code' ] = 5401"
            ]
        },
        {
            "cell_type": "code",
            "execution_count": null,
            "metadata": {},
            "outputs": [],
            "source": [
                "df[(df['City'] =='Burlington') & (df['State'] == 'Vermont')]"
            ]
        },
        {
            "cell_type": "code",
            "execution_count": null,
            "metadata": {},
            "outputs": [],
            "source": [
                "# verificando se ainda existe valores nulos\n",
                "df.info()"
            ]
        },
        {
            "cell_type": "code",
            "execution_count": null,
            "metadata": {},
            "outputs": [],
            "source": [
                "# Pergunta de négocio 1, Vendas por ano pelas colunas Ano e Vendas"
            ]
        },
        {
            "cell_type": "code",
            "execution_count": null,
            "metadata": {},
            "outputs": [],
            "source": [
                "#transformando Dtypes object em date para podermos trabalhar com data\n",
                "\n",
                "df['Order Date'] = pd.to_datetime(df['Order Date'],format= \"%d/%m/%Y\")\n",
                "df['Ship Date'] = pd.to_datetime(df['Ship Date'],format= \"%d/%m/%Y\")"
            ]
        },
        {
            "cell_type": "code",
            "execution_count": null,
            "metadata": {},
            "outputs": [],
            "source": [
                "df['Ano'] = df['Order Date'].dt.year"
            ]
        },
        {
            "cell_type": "code",
            "execution_count": null,
            "metadata": {},
            "outputs": [],
            "source": [
                "vendas_ano = df.groupby('Ano')['Sales'].sum()"
            ]
        },
        {
            "cell_type": "code",
            "execution_count": null,
            "metadata": {},
            "outputs": [],
            "source": [
                "fig,ax = plt.subplots()\n",
                "\n",
                "ax.bar(vendas_ano.index, vendas_ano.values)\n",
                "ax.set_title('Vendas por ano',fontsize = 20)\n",
                "ax.set_ylabel('Valores em $')\n",
                "ax.xaxis.set_ticks([2015,2016,2017,2018])\n",
                "plt.show()\n"
            ]
        },
        {
            "cell_type": "code",
            "execution_count": null,
            "metadata": {},
            "outputs": [],
            "source": [
                "# Pergunta de négocio 2, vendas por mês"
            ]
        },
        {
            "cell_type": "code",
            "execution_count": null,
            "metadata": {},
            "outputs": [],
            "source": [
                "# criando a coluna mês já que não temos ela previamente\n",
                "df['Mes'] = df['Order Date'].dt.month"
            ]
        },
        {
            "cell_type": "code",
            "execution_count": null,
            "metadata": {},
            "outputs": [],
            "source": [
                "df.head()"
            ]
        },
        {
            "cell_type": "code",
            "execution_count": null,
            "metadata": {},
            "outputs": [],
            "source": [
                "# groupy por mês e por ano\n",
                "vendas_mes = df.groupby(['Mes','Ano'])['Sales'].sum().reset_index()"
            ]
        },
        {
            "cell_type": "code",
            "execution_count": null,
            "metadata": {},
            "outputs": [],
            "source": [
                "#filtrando valores de 2015 apenas por exemplo\n",
                "vendas_mes[vendas_mes['Ano'] == 2015]\n",
                "\n"
            ]
        },
        {
            "cell_type": "code",
            "execution_count": null,
            "metadata": {},
            "outputs": [],
            "source": [
                "#tornando isso visual\n",
                "\n",
                "fig,ax = plt.subplots(figsize=(9,4))\n",
                "\n",
                "ax.bar(vendas_mes[vendas_mes['Ano'] == 2015].Mes.values, vendas_mes[vendas_mes['Ano'] == 2015].Sales.values)\n",
                "ax.set_title('Vendas por Mês',fontsize = 20)\n",
                "ax.set_ylabel('Valores em $')\n",
                "plt.show()"
            ]
        },
        {
            "cell_type": "code",
            "execution_count": null,
            "metadata": {},
            "outputs": [],
            "source": [
                "#Grafico de vendas por mês duarante o ano\n",
                "fig,ax = plt.subplots(figsize=(16,4))\n",
                "\n",
                "wid = 0.2\n",
                "\n",
                "ax.bar(vendas_mes[vendas_mes['Ano'] == 2015].Mes.values-wid-wid/2, vendas_mes[vendas_mes['Ano'] == 2015].Sales.values, color = '#00c698',label = '2015',width=wid)\n",
                "ax.set_title('Vendas por Mês',fontsize = 20)\n",
                "ax.set_ylabel('Valores em $')\n",
                "\n",
                "ax.bar(vendas_mes[vendas_mes['Ano'] == 2016].Mes.values-wid/2, vendas_mes[vendas_mes['Ano'] == 2016].Sales.values, color = '#00a9b5',label = '2016',width=wid)\n",
                "ax.bar(vendas_mes[vendas_mes['Ano'] == 2017].Mes.values+wid/2, vendas_mes[vendas_mes['Ano'] == 2017].Sales.values, color = '#008ac5',label = '2017',width=wid)\n",
                "ax.bar(vendas_mes[vendas_mes['Ano'] == 2018].Mes.values+wid+wid/2, vendas_mes[vendas_mes['Ano'] == 2018].Sales.values, color = '#0069c0',label = '2018',width=wid)\n",
                "\n",
                "ax.xaxis.set_ticks(np.arange(1,13))\n",
                "ax.set_xticklabels(['Jan','Fev','Mar','Abr','Mai','Jun','Jul','Ago','Set','Out','Nov','Dez'])\n",
                "ax.tick_params(axis='x', labelsize = 10)\n",
                "\n",
                "ax.legend()\n",
                "\n",
                "plt.show()"
            ]
        },
        {
            "cell_type": "code",
            "execution_count": null,
            "metadata": {},
            "outputs": [],
            "source": [
                "# pergunta de negocio 3, quantidade mais vendida por categoria"
            ]
        },
        {
            "cell_type": "code",
            "execution_count": null,
            "metadata": {},
            "outputs": [],
            "source": [
                "#ordenando por groupby\n",
                "categoria = df.groupby(['Category','Ano'])['Sales'].sum().reset_index()"
            ]
        },
        {
            "cell_type": "code",
            "execution_count": null,
            "metadata": {},
            "outputs": [],
            "source": [
                "#Reaproveitando lógica do gráfico anterior\n",
                "fig,ax = plt.subplots(figsize=(16,4))\n",
                "\n",
                "wid = 0.2\n",
                "\n",
                "ax.bar(categoria[categoria['Category'] == 'Furniture'].Ano.values-wid,categoria[categoria['Category'] == 'Furniture'].Sales.values,\n",
                "       color = '#00c698',label='Furniture',width=wid)\n",
                "ax.bar(categoria[categoria['Category'] == 'Office Supplies'].Ano.values,categoria[categoria['Category'] == 'Office Supplies'].Sales.values,\n",
                "       color = '#00a9b5',label='Office Supplies',width=wid)\n",
                "ax.bar(categoria[categoria['Category'] == 'Technology'].Ano.values+wid,categoria[categoria['Category'] == 'Technology'].Sales.values,\n",
                "       color = '#008ac5',label='Technology',width=wid)\n",
                "\n",
                "ax.xaxis.set_ticks([2015,2016,2017,2018])\n",
                "\n",
                "ax.legend()\n",
                "\n",
                "plt.show()"
            ]
        },
        {
            "cell_type": "code",
            "execution_count": null,
            "metadata": {},
            "outputs": [],
            "source": [
                "# pergunta de negocio 4, produto mais vendido"
            ]
        },
        {
            "cell_type": "code",
            "execution_count": null,
            "metadata": {},
            "outputs": [],
            "source": [
                "#novamente o uso do groupby\n",
                "itens= df.groupby('Product Name')['Sales'].sum().reset_index().sort_values(by='Sales',ascending=False)"
            ]
        },
        {
            "cell_type": "code",
            "execution_count": null,
            "metadata": {},
            "outputs": [],
            "source": [
                "#variavel n para visualização dinâmica\n",
                "n = 10\n",
                "top_itens = itens.head(n)"
            ]
        },
        {
            "cell_type": "code",
            "execution_count": null,
            "metadata": {},
            "outputs": [],
            "source": [
                "#Reaproveitando lógica do gráfico anterior\n",
                "fig,ax = plt.subplots(figsize=(16,4))\n",
                "\n",
                "\n",
                "ax.barh(top_itens['Product Name'].values,\n",
                "        top_itens['Sales'].values,\n",
                "        align = 'center')\n",
                "\n",
                "ax.invert_yaxis() #inverter eixo y\n",
                "\n",
                "plt.show()"
            ]
        }
    ],
    "metadata": {
        "kernelspec": {
            "display_name": "Python 3",
            "language": "python",
            "name": "python3"
        },
        "language_info": {
            "codemirror_mode": {
                "name": "ipython",
                "version": 3
            },
            "file_extension": ".py",
            "mimetype": "text/x-python",
            "name": "python",
            "nbconvert_exporter": "python",
            "pygments_lexer": "ipython3",
            "version": "3.12.2"
        }
    },
    "nbformat": 4,
    "nbformat_minor": 2
}
